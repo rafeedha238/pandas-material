{
 "cells": [
  {
   "cell_type": "code",
   "execution_count": 8,
   "id": "d98568f6-5e8a-4f60-88bb-8cc1a178808d",
   "metadata": {},
   "outputs": [],
   "source": [
    "import pandas as pd"
   ]
  },
  {
   "cell_type": "code",
   "execution_count": 10,
   "id": "6f926361-6140-4c96-9743-3ced2ae7767f",
   "metadata": {},
   "outputs": [
    {
     "name": "stdout",
     "output_type": "stream",
     "text": [
      "Requirement already satisfied: pandas in c:\\users\\mippk\\anaconda3\\lib\\site-packages (2.2.2)\n",
      "Requirement already satisfied: numpy>=1.26.0 in c:\\users\\mippk\\anaconda3\\lib\\site-packages (from pandas) (1.26.4)\n",
      "Requirement already satisfied: python-dateutil>=2.8.2 in c:\\users\\mippk\\anaconda3\\lib\\site-packages (from pandas) (2.9.0.post0)\n",
      "Requirement already satisfied: pytz>=2020.1 in c:\\users\\mippk\\anaconda3\\lib\\site-packages (from pandas) (2024.1)\n",
      "Requirement already satisfied: tzdata>=2022.7 in c:\\users\\mippk\\anaconda3\\lib\\site-packages (from pandas) (2023.3)\n",
      "Requirement already satisfied: six>=1.5 in c:\\users\\mippk\\anaconda3\\lib\\site-packages (from python-dateutil>=2.8.2->pandas) (1.16.0)\n",
      "Note: you may need to restart the kernel to use updated packages.\n"
     ]
    }
   ],
   "source": [
    "pip install pandas"
   ]
  },
  {
   "cell_type": "code",
   "execution_count": 14,
   "id": "4b5ab189-e943-4252-8165-09ac84a73659",
   "metadata": {},
   "outputs": [],
   "source": [
    "s=[1,2,3,4,5]\n",
    "d=pd.Series(s)"
   ]
  },
  {
   "cell_type": "code",
   "execution_count": 20,
   "id": "df54df81-da72-4af7-8472-ea4e1a9fb240",
   "metadata": {},
   "outputs": [
    {
     "data": {
      "text/plain": [
       "[1, 2, 3, 4, 5]"
      ]
     },
     "execution_count": 20,
     "metadata": {},
     "output_type": "execute_result"
    }
   ],
   "source": [
    "s"
   ]
  },
  {
   "cell_type": "code",
   "execution_count": 23,
   "id": "fb04ccd5-0168-4131-9a27-c4e896ecd5a3",
   "metadata": {},
   "outputs": [
    {
     "data": {
      "text/plain": [
       "0    1\n",
       "1    2\n",
       "2    3\n",
       "3    4\n",
       "4    5\n",
       "dtype: int64"
      ]
     },
     "execution_count": 23,
     "metadata": {},
     "output_type": "execute_result"
    }
   ],
   "source": [
    "d"
   ]
  },
  {
   "cell_type": "code",
   "execution_count": 29,
   "id": "238789ac-5731-4b06-bacc-27e08b257f41",
   "metadata": {},
   "outputs": [
    {
     "data": {
      "text/plain": [
       "a    1\n",
       "b    2\n",
       "c    3\n",
       "d    4\n",
       "e    5\n",
       "dtype: int64"
      ]
     },
     "execution_count": 29,
     "metadata": {},
     "output_type": "execute_result"
    }
   ],
   "source": [
    "x=pd.Series(s,index=['a','b','c','d','e'])\n",
    "x"
   ]
  },
  {
   "cell_type": "code",
   "execution_count": 31,
   "id": "a42aee54-9213-4eae-8b98-120996b38e2d",
   "metadata": {},
   "outputs": [
    {
     "data": {
      "text/plain": [
       "['banana', 'apple', 'kiwi', 'mango']"
      ]
     },
     "execution_count": 31,
     "metadata": {},
     "output_type": "execute_result"
    }
   ],
   "source": [
    "a=['banana','apple','kiwi','mango']\n",
    "b=pd.Series(a)\n",
    "a"
   ]
  },
  {
   "cell_type": "code",
   "execution_count": 33,
   "id": "058e83fa-deb0-49b7-a7c6-05014919d942",
   "metadata": {},
   "outputs": [
    {
     "data": {
      "text/plain": [
       "0    banana\n",
       "1     apple\n",
       "2      kiwi\n",
       "3     mango\n",
       "dtype: object"
      ]
     },
     "execution_count": 33,
     "metadata": {},
     "output_type": "execute_result"
    }
   ],
   "source": [
    "b"
   ]
  },
  {
   "cell_type": "code",
   "execution_count": 39,
   "id": "7af9f6e7-0d67-4cb9-b6ca-fad46cea6331",
   "metadata": {
    "scrolled": true
   },
   "outputs": [
    {
     "data": {
      "text/plain": [
       "1    banana\n",
       "2     apple\n",
       "3      kiwi\n",
       "4     mango\n",
       "dtype: object"
      ]
     },
     "execution_count": 39,
     "metadata": {},
     "output_type": "execute_result"
    }
   ],
   "source": [
    "c=pd.Series(a,index=[1,2,3,4])\n",
    "c"
   ]
  },
  {
   "cell_type": "code",
   "execution_count": 41,
   "id": "c7e0f127-beee-4323-8f9b-668132ae8f5e",
   "metadata": {},
   "outputs": [
    {
     "data": {
      "text/plain": [
       "'kiwi'"
      ]
     },
     "execution_count": 41,
     "metadata": {},
     "output_type": "execute_result"
    }
   ],
   "source": [
    "b[2]#"
   ]
  },
  {
   "cell_type": "code",
   "execution_count": 45,
   "id": "abe9c220-e1e3-4062-af29-3dd021f7090e",
   "metadata": {},
   "outputs": [
    {
     "data": {
      "text/plain": [
       "'mango'"
      ]
     },
     "execution_count": 45,
     "metadata": {},
     "output_type": "execute_result"
    }
   ],
   "source": [
    "b[3]"
   ]
  },
  {
   "cell_type": "code",
   "execution_count": 47,
   "id": "27d3b22d-7234-484e-8041-474097290dd4",
   "metadata": {},
   "outputs": [
    {
     "data": {
      "text/plain": [
       "1    apple\n",
       "dtype: object"
      ]
     },
     "execution_count": 47,
     "metadata": {},
     "output_type": "execute_result"
    }
   ],
   "source": [
    "b[1:2]"
   ]
  },
  {
   "cell_type": "code",
   "execution_count": 49,
   "id": "80fd0cc3-c352-4a80-8956-89650eca1944",
   "metadata": {},
   "outputs": [
    {
     "data": {
      "text/plain": [
       "1    apple\n",
       "2     kiwi\n",
       "dtype: object"
      ]
     },
     "execution_count": 49,
     "metadata": {},
     "output_type": "execute_result"
    }
   ],
   "source": [
    "b[1:3]#slicing"
   ]
  },
  {
   "cell_type": "code",
   "execution_count": 63,
   "id": "04f96a20-c17e-4b4b-b143-6b7d47de12b5",
   "metadata": {},
   "outputs": [
    {
     "data": {
      "text/plain": [
       "0    1\n",
       "1    2\n",
       "2    3\n",
       "3    4\n",
       "4    5\n",
       "5    6\n",
       "6    7\n",
       "dtype: int64"
      ]
     },
     "execution_count": 63,
     "metadata": {},
     "output_type": "execute_result"
    }
   ],
   "source": [
    "x=[1,2,3,4,5,6,7]\n",
    "y=pd.Series(x)\n",
    "x\n",
    "y"
   ]
  },
  {
   "cell_type": "code",
   "execution_count": 65,
   "id": "26ded6da-df52-43c7-93aa-ff68bb226a9c",
   "metadata": {},
   "outputs": [
    {
     "data": {
      "text/plain": [
       "5"
      ]
     },
     "execution_count": 65,
     "metadata": {},
     "output_type": "execute_result"
    }
   ],
   "source": [
    "y[4]"
   ]
  },
  {
   "cell_type": "code",
   "execution_count": 95,
   "id": "087ddbb5-bd54-4443-a016-c55b897007ef",
   "metadata": {},
   "outputs": [
    {
     "data": {
      "text/plain": [
       "a    1\n",
       "b    2\n",
       "c    3\n",
       "d    4\n",
       "e    5\n",
       "f    6\n",
       "g    7\n",
       "dtype: int64"
      ]
     },
     "execution_count": 95,
     "metadata": {},
     "output_type": "execute_result"
    }
   ],
   "source": [
    "y[5]\n",
    "z=pd.Series(x,index=[\"a\",\"b\",\"c\",\"d\",\"e\",\"f\",\"g\"])\n",
    "z"
   ]
  },
  {
   "cell_type": "code",
   "execution_count": 97,
   "id": "2bc66c46-31a3-43c8-9d19-4b1f38c69348",
   "metadata": {},
   "outputs": [
    {
     "data": {
      "text/plain": [
       "2    3\n",
       "3    4\n",
       "4    5\n",
       "dtype: int64"
      ]
     },
     "execution_count": 97,
     "metadata": {},
     "output_type": "execute_result"
    }
   ],
   "source": [
    "y[2:5]\n"
   ]
  },
  {
   "cell_type": "code",
   "execution_count": 99,
   "id": "1831e057-a502-4e0d-b808-76a7a5850727",
   "metadata": {},
   "outputs": [
    {
     "data": {
      "text/plain": [
       "a    1\n",
       "b    2\n",
       "c    3\n",
       "d    4\n",
       "e    5\n",
       "f    6\n",
       "g    7\n",
       "dtype: int64"
      ]
     },
     "execution_count": 99,
     "metadata": {},
     "output_type": "execute_result"
    }
   ],
   "source": [
    "z"
   ]
  },
  {
   "cell_type": "code",
   "execution_count": 103,
   "id": "fe4843c3-3760-4b59-90e6-22c652d4af1a",
   "metadata": {},
   "outputs": [
    {
     "data": {
      "text/plain": [
       "b    2\n",
       "c    3\n",
       "d    4\n",
       "e    5\n",
       "f    6\n",
       "dtype: int64"
      ]
     },
     "execution_count": 103,
     "metadata": {},
     "output_type": "execute_result"
    }
   ],
   "source": [
    "z['b':'f']"
   ]
  },
  {
   "cell_type": "markdown",
   "id": "49bc214e-7d5b-4973-9725-2b6bc00588bf",
   "metadata": {},
   "source": [
    " vectorised operations"
   ]
  },
  {
   "cell_type": "code",
   "execution_count": 112,
   "id": "c15301a4-6d06-4796-bd8c-ca1166c2820c",
   "metadata": {},
   "outputs": [
    {
     "data": {
      "text/plain": [
       "0    1\n",
       "1    2\n",
       "2    3\n",
       "3    4\n",
       "4    5\n",
       "dtype: int64"
      ]
     },
     "execution_count": 112,
     "metadata": {},
     "output_type": "execute_result"
    }
   ],
   "source": [
    "h=[1,2,3,4,5]\n",
    "e=pd.Series(h)\n",
    "e"
   ]
  },
  {
   "cell_type": "code",
   "execution_count": 114,
   "id": "f23d91ee-a52b-4d31-b732-40b7d52a29f5",
   "metadata": {},
   "outputs": [],
   "source": [
    "s=e+2"
   ]
  },
  {
   "cell_type": "code",
   "execution_count": 116,
   "id": "83dfb9e8-3352-44a0-8c63-0871a9e8580c",
   "metadata": {},
   "outputs": [
    {
     "data": {
      "text/plain": [
       "0    3\n",
       "1    4\n",
       "2    5\n",
       "3    6\n",
       "4    7\n",
       "dtype: int64"
      ]
     },
     "execution_count": 116,
     "metadata": {},
     "output_type": "execute_result"
    }
   ],
   "source": [
    "s"
   ]
  },
  {
   "cell_type": "markdown",
   "id": "fd8d3771-a5f0-4d6b-864f-2340a63e7912",
   "metadata": {},
   "source": [
    "ELEMENT WISE OPERATORS:"
   ]
  },
  {
   "cell_type": "code",
   "execution_count": 141,
   "id": "8631ec4c-1389-4523-9ed2-8066f5d9f3b6",
   "metadata": {},
   "outputs": [
    {
     "data": {
      "text/plain": [
       "0    1\n",
       "1    2\n",
       "2    3\n",
       "3    4\n",
       "4    5\n",
       "5    6\n",
       "6    7\n",
       "dtype: int64"
      ]
     },
     "execution_count": 141,
     "metadata": {},
     "output_type": "execute_result"
    }
   ],
   "source": [
    "a=pd.Series([1,2,3,4,5,6,7])\n",
    "b=pd.Series([2,5,3,8,2,1,6])\n",
    "a\n"
   ]
  },
  {
   "cell_type": "code",
   "execution_count": 143,
   "id": "c62ede23-1219-4c07-95e3-594b15df6e1f",
   "metadata": {},
   "outputs": [
    {
     "data": {
      "text/plain": [
       "0    2\n",
       "1    5\n",
       "2    3\n",
       "3    8\n",
       "4    2\n",
       "5    1\n",
       "6    6\n",
       "dtype: int64"
      ]
     },
     "execution_count": 143,
     "metadata": {},
     "output_type": "execute_result"
    }
   ],
   "source": [
    "b"
   ]
  },
  {
   "cell_type": "code",
   "execution_count": 145,
   "id": "7544844b-a8f0-4145-8589-2ad355dd2699",
   "metadata": {},
   "outputs": [
    {
     "data": {
      "text/plain": [
       "0     3\n",
       "1     7\n",
       "2     6\n",
       "3    12\n",
       "4     7\n",
       "5     7\n",
       "6    13\n",
       "dtype: int64"
      ]
     },
     "execution_count": 145,
     "metadata": {},
     "output_type": "execute_result"
    }
   ],
   "source": [
    "c=a+b\n",
    "c"
   ]
  },
  {
   "cell_type": "code",
   "execution_count": 147,
   "id": "b841604b-14d2-4d24-a112-2ea0e11415b4",
   "metadata": {},
   "outputs": [
    {
     "data": {
      "text/plain": [
       "0   -1\n",
       "1   -3\n",
       "2    0\n",
       "3   -4\n",
       "4    3\n",
       "5    5\n",
       "6    1\n",
       "dtype: int64"
      ]
     },
     "execution_count": 147,
     "metadata": {},
     "output_type": "execute_result"
    }
   ],
   "source": [
    "sub=a-b\n",
    "sub"
   ]
  },
  {
   "cell_type": "code",
   "execution_count": 151,
   "id": "8d0420c7-8a3f-430f-a7c9-4d98308972a7",
   "metadata": {},
   "outputs": [
    {
     "data": {
      "text/plain": [
       "0     2\n",
       "1    10\n",
       "2     9\n",
       "3    32\n",
       "4    10\n",
       "5     6\n",
       "6    42\n",
       "dtype: int64"
      ]
     },
     "execution_count": 151,
     "metadata": {},
     "output_type": "execute_result"
    }
   ],
   "source": [
    "mul=a*b\n",
    "mul"
   ]
  },
  {
   "cell_type": "code",
   "execution_count": 153,
   "id": "25581f85-c7e6-4a6d-850a-1171c98b62bd",
   "metadata": {},
   "outputs": [
    {
     "data": {
      "text/plain": [
       "0     3\n",
       "1     7\n",
       "2     6\n",
       "3    12\n",
       "4     7\n",
       "5     7\n",
       "6    13\n",
       "dtype: int64"
      ]
     },
     "execution_count": 153,
     "metadata": {},
     "output_type": "execute_result"
    }
   ],
   "source": [
    "d=a.add(b)\n",
    "d"
   ]
  },
  {
   "cell_type": "code",
   "execution_count": 155,
   "id": "4a774b29-bbd6-415e-86c3-6c656646e7a6",
   "metadata": {},
   "outputs": [
    {
     "data": {
      "text/plain": [
       "0   -1\n",
       "1   -3\n",
       "2    0\n",
       "3   -4\n",
       "4    3\n",
       "5    5\n",
       "6    1\n",
       "dtype: int64"
      ]
     },
     "execution_count": 155,
     "metadata": {},
     "output_type": "execute_result"
    }
   ],
   "source": [
    "d=a.sub(b)\n",
    "d"
   ]
  },
  {
   "cell_type": "code",
   "execution_count": 157,
   "id": "d5647d3d-cd9a-4b9b-8417-149a99310010",
   "metadata": {},
   "outputs": [
    {
     "data": {
      "text/plain": [
       "0    False\n",
       "1    False\n",
       "2    False\n",
       "3    False\n",
       "4    False\n",
       "5    False\n",
       "6    False\n",
       "dtype: bool"
      ]
     },
     "execution_count": 157,
     "metadata": {},
     "output_type": "execute_result"
    }
   ],
   "source": [
    "d.isnull()"
   ]
  },
  {
   "cell_type": "code",
   "execution_count": 161,
   "id": "65795ae1-b255-4ffa-b568-b9c60ca831c1",
   "metadata": {},
   "outputs": [
    {
     "data": {
      "text/plain": [
       "0"
      ]
     },
     "execution_count": 161,
     "metadata": {},
     "output_type": "execute_result"
    }
   ],
   "source": [
    "d.isnull().sum()"
   ]
  },
  {
   "cell_type": "code",
   "execution_count": 163,
   "id": "2115f0a6-2593-47fb-ad23-fe5dbfcc9b09",
   "metadata": {},
   "outputs": [
    {
     "data": {
      "text/plain": [
       "0    False\n",
       "1    False\n",
       "2    False\n",
       "3    False\n",
       "4    False\n",
       "5    False\n",
       "6    False\n",
       "dtype: bool"
      ]
     },
     "execution_count": 163,
     "metadata": {},
     "output_type": "execute_result"
    }
   ],
   "source": [
    "d.isna()"
   ]
  },
  {
   "cell_type": "code",
   "execution_count": 165,
   "id": "2943abf0-bf6d-48cd-8415-cdd41ba74455",
   "metadata": {},
   "outputs": [
    {
     "data": {
      "text/plain": [
       "0"
      ]
     },
     "execution_count": 165,
     "metadata": {},
     "output_type": "execute_result"
    }
   ],
   "source": [
    "d.isna().sum()"
   ]
  },
  {
   "cell_type": "code",
   "execution_count": 167,
   "id": "7cbe9205-4313-42fb-b44a-d78efd575bab",
   "metadata": {},
   "outputs": [
    {
     "data": {
      "text/plain": [
       "0   -1\n",
       "1   -3\n",
       "2    0\n",
       "3   -4\n",
       "4    3\n",
       "5    5\n",
       "6    1\n",
       "dtype: int64"
      ]
     },
     "execution_count": 167,
     "metadata": {},
     "output_type": "execute_result"
    }
   ],
   "source": [
    "d.dropna()"
   ]
  },
  {
   "cell_type": "code",
   "execution_count": 1,
   "id": "ae023ee4-7d6e-447b-8a06-52bc85c95cb5",
   "metadata": {},
   "outputs": [],
   "source": [
    "import pandas as pan"
   ]
  },
  {
   "cell_type": "code",
   "execution_count": 3,
   "id": "430acaca-3fc8-4fb6-9b46-2ac48d605424",
   "metadata": {},
   "outputs": [
    {
     "name": "stdout",
     "output_type": "stream",
     "text": [
      "Requirement already satisfied: pandas in c:\\users\\mippk\\anaconda3\\lib\\site-packages (2.2.2)\n",
      "Requirement already satisfied: numpy>=1.26.0 in c:\\users\\mippk\\anaconda3\\lib\\site-packages (from pandas) (1.26.4)\n",
      "Requirement already satisfied: python-dateutil>=2.8.2 in c:\\users\\mippk\\anaconda3\\lib\\site-packages (from pandas) (2.9.0.post0)\n",
      "Requirement already satisfied: pytz>=2020.1 in c:\\users\\mippk\\anaconda3\\lib\\site-packages (from pandas) (2024.1)\n",
      "Requirement already satisfied: tzdata>=2022.7 in c:\\users\\mippk\\anaconda3\\lib\\site-packages (from pandas) (2023.3)\n",
      "Requirement already satisfied: six>=1.5 in c:\\users\\mippk\\anaconda3\\lib\\site-packages (from python-dateutil>=2.8.2->pandas) (1.16.0)\n",
      "Note: you may need to restart the kernel to use updated packages.\n"
     ]
    }
   ],
   "source": [
    "pip install pandas\n"
   ]
  },
  {
   "cell_type": "code",
   "execution_count": 17,
   "id": "d0f64ad9-7d0b-44e3-b6a6-bdf5dabb50b4",
   "metadata": {},
   "outputs": [
    {
     "data": {
      "text/plain": [
       "0    19\n",
       "1     2\n",
       "2     3\n",
       "3     4\n",
       "4     5\n",
       "5     6\n",
       "6    78\n",
       "dtype: int64"
      ]
     },
     "execution_count": 17,
     "metadata": {},
     "output_type": "execute_result"
    }
   ],
   "source": [
    "a=[19,2,3,4,5,6,78]\n",
    "b=pan.Series(a)\n",
    "b\n"
   ]
  },
  {
   "cell_type": "code",
   "execution_count": 31,
   "id": "b0aaa00a-ad1a-4b9c-abf5-6625b677213f",
   "metadata": {},
   "outputs": [
    {
     "data": {
      "text/plain": [
       "0    banana\n",
       "1    cherry\n",
       "2      kiwi\n",
       "3     apple\n",
       "4    orange\n",
       "5     mango\n",
       "dtype: object"
      ]
     },
     "execution_count": 31,
     "metadata": {},
     "output_type": "execute_result"
    }
   ],
   "source": [
    "fruits=[\"banana\",\"cherry\",\"kiwi\",\"apple\",\"orange\",\"mango\"]\n",
    "a=pan.Series(fruits)\n",
    "a"
   ]
  },
  {
   "cell_type": "code",
   "execution_count": 33,
   "id": "549ae719-0b5a-4677-9bfe-e8f9e02c5d6f",
   "metadata": {},
   "outputs": [
    {
     "data": {
      "text/plain": [
       "a    banana\n",
       "b    cherry\n",
       "c      kiwi\n",
       "d     apple\n",
       "e    orange\n",
       "f     mango\n",
       "dtype: object"
      ]
     },
     "execution_count": 33,
     "metadata": {},
     "output_type": "execute_result"
    }
   ],
   "source": [
    "c=pan.Series(fruits,index=['a','b','c','d','e','f'])\n",
    "c"
   ]
  },
  {
   "cell_type": "code",
   "execution_count": 37,
   "id": "ea0ec635-3e8d-4bc9-b0cf-f5b85b30b3c6",
   "metadata": {},
   "outputs": [
    {
     "name": "stderr",
     "output_type": "stream",
     "text": [
      "C:\\Users\\mippk\\AppData\\Local\\Temp\\ipykernel_21004\\3726417493.py:1: FutureWarning: Series.__getitem__ treating keys as positions is deprecated. In a future version, integer keys will always be treated as labels (consistent with DataFrame behavior). To access a value by position, use `ser.iloc[pos]`\n",
      "  c[2]\n"
     ]
    },
    {
     "data": {
      "text/plain": [
       "b    cherry\n",
       "c      kiwi\n",
       "d     apple\n",
       "e    orange\n",
       "dtype: object"
      ]
     },
     "execution_count": 37,
     "metadata": {},
     "output_type": "execute_result"
    }
   ],
   "source": [
    "c[2]\n",
    "c[1:5]"
   ]
  },
  {
   "cell_type": "code",
   "execution_count": 39,
   "id": "ce0fab00-b51a-4ba5-b69a-7d245627433e",
   "metadata": {},
   "outputs": [
    {
     "data": {
      "text/plain": [
       "0    1\n",
       "1    2\n",
       "2    3\n",
       "3    4\n",
       "4    5\n",
       "5    6\n",
       "6    7\n",
       "7    8\n",
       "8    9\n",
       "dtype: int64"
      ]
     },
     "execution_count": 39,
     "metadata": {},
     "output_type": "execute_result"
    }
   ],
   "source": [
    "a=[1,2,3,4,5,6,7,8,9]\n",
    "b=pan.Series(a)\n",
    "b"
   ]
  },
  {
   "cell_type": "code",
   "execution_count": 43,
   "id": "f61a7cb3-fb4c-400c-8f85-5a7e4d8f8531",
   "metadata": {},
   "outputs": [
    {
     "data": {
      "text/plain": [
       "0     2\n",
       "1     4\n",
       "2     6\n",
       "3     8\n",
       "4    10\n",
       "5    12\n",
       "6    14\n",
       "7    16\n",
       "8    18\n",
       "dtype: int64"
      ]
     },
     "execution_count": 43,
     "metadata": {},
     "output_type": "execute_result"
    }
   ],
   "source": [
    "c=b+2\n",
    "c\n",
    "c=b*2\n",
    "c"
   ]
  },
  {
   "cell_type": "code",
   "execution_count": 49,
   "id": "1abf387d-3216-4d71-9e7a-0f7ec5f6a418",
   "metadata": {},
   "outputs": [
    {
     "data": {
      "text/plain": [
       "0    11\n",
       "1    12\n",
       "2    13\n",
       "3    14\n",
       "4    15\n",
       "5    16\n",
       "dtype: int64"
      ]
     },
     "execution_count": 49,
     "metadata": {},
     "output_type": "execute_result"
    }
   ],
   "source": [
    "a=pan.Series([1,2,3,4,5,6,7,8,9])\n",
    "b=pan.Series([11,12,13,14,15,16])\n",
    "a\n",
    "b"
   ]
  },
  {
   "cell_type": "code",
   "execution_count": 51,
   "id": "a8903444-c0b5-4498-8974-b69b15a48270",
   "metadata": {},
   "outputs": [
    {
     "data": {
      "text/plain": [
       "0    1\n",
       "1    2\n",
       "2    3\n",
       "3    4\n",
       "4    5\n",
       "5    6\n",
       "6    7\n",
       "7    8\n",
       "8    9\n",
       "dtype: int64"
      ]
     },
     "execution_count": 51,
     "metadata": {},
     "output_type": "execute_result"
    }
   ],
   "source": [
    "a"
   ]
  },
  {
   "cell_type": "code",
   "execution_count": 57,
   "id": "1e2d4788-32d4-4f52-8f7c-d431fafcecb4",
   "metadata": {},
   "outputs": [
    {
     "data": {
      "text/plain": [
       "0    12.0\n",
       "1    14.0\n",
       "2    16.0\n",
       "3    18.0\n",
       "4    20.0\n",
       "5    22.0\n",
       "6     NaN\n",
       "7     NaN\n",
       "8     NaN\n",
       "dtype: float64"
      ]
     },
     "execution_count": 57,
     "metadata": {},
     "output_type": "execute_result"
    }
   ],
   "source": [
    "c=a+b\n",
    "c"
   ]
  },
  {
   "cell_type": "code",
   "execution_count": 59,
   "id": "ad443a20-993b-4660-9269-8011a1b0344f",
   "metadata": {},
   "outputs": [
    {
     "data": {
      "text/plain": [
       "0    12.0\n",
       "1    14.0\n",
       "2    16.0\n",
       "3    18.0\n",
       "4    20.0\n",
       "5    22.0\n",
       "6     NaN\n",
       "7     NaN\n",
       "8     NaN\n",
       "dtype: float64"
      ]
     },
     "execution_count": 59,
     "metadata": {},
     "output_type": "execute_result"
    }
   ],
   "source": [
    "d=a.add(b)\n",
    "d"
   ]
  },
  {
   "cell_type": "code",
   "execution_count": 61,
   "id": "1e920a44-2284-4224-830c-67ad94634999",
   "metadata": {},
   "outputs": [
    {
     "data": {
      "text/plain": [
       "0   -10.0\n",
       "1   -10.0\n",
       "2   -10.0\n",
       "3   -10.0\n",
       "4   -10.0\n",
       "5   -10.0\n",
       "6     NaN\n",
       "7     NaN\n",
       "8     NaN\n",
       "dtype: float64"
      ]
     },
     "execution_count": 61,
     "metadata": {},
     "output_type": "execute_result"
    }
   ],
   "source": [
    "f=a.sub(b)\n",
    "f"
   ]
  },
  {
   "cell_type": "code",
   "execution_count": 63,
   "id": "38538828-9a85-4739-a24b-7116d2491710",
   "metadata": {},
   "outputs": [
    {
     "data": {
      "text/plain": [
       "0    11.0\n",
       "1    24.0\n",
       "2    39.0\n",
       "3    56.0\n",
       "4    75.0\n",
       "5    96.0\n",
       "6     NaN\n",
       "7     NaN\n",
       "8     NaN\n",
       "dtype: float64"
      ]
     },
     "execution_count": 63,
     "metadata": {},
     "output_type": "execute_result"
    }
   ],
   "source": [
    "g=a.mul(b)\n",
    "g"
   ]
  },
  {
   "cell_type": "code",
   "execution_count": 65,
   "id": "54696837-f38f-4e11-bf5b-6fced69de938",
   "metadata": {},
   "outputs": [
    {
     "data": {
      "text/plain": [
       "0    False\n",
       "1    False\n",
       "2    False\n",
       "3    False\n",
       "4    False\n",
       "5    False\n",
       "dtype: bool"
      ]
     },
     "execution_count": 65,
     "metadata": {},
     "output_type": "execute_result"
    }
   ],
   "source": [
    "b.isnull()"
   ]
  },
  {
   "cell_type": "markdown",
   "id": "125aa5a3-5ee4-484a-9cdc-6e93879c97f0",
   "metadata": {},
   "source": [
    "# CREATING DIFFERENTTYPE OF DATA\n",
    "\n",
    "## Csv FILE"
   ]
  },
  {
   "cell_type": "code",
   "execution_count": 84,
   "id": "6ea367bc-9308-4b7c-988c-ba930beb9cec",
   "metadata": {},
   "outputs": [
    {
     "data": {
      "text/html": [
       "<div>\n",
       "<style scoped>\n",
       "    .dataframe tbody tr th:only-of-type {\n",
       "        vertical-align: middle;\n",
       "    }\n",
       "\n",
       "    .dataframe tbody tr th {\n",
       "        vertical-align: top;\n",
       "    }\n",
       "\n",
       "    .dataframe thead th {\n",
       "        text-align: right;\n",
       "    }\n",
       "</style>\n",
       "<table border=\"1\" class=\"dataframe\">\n",
       "  <thead>\n",
       "    <tr style=\"text-align: right;\">\n",
       "      <th></th>\n",
       "      <th>name</th>\n",
       "      <th>age</th>\n",
       "      <th>department</th>\n",
       "      <th>salary</th>\n",
       "    </tr>\n",
       "  </thead>\n",
       "  <tbody>\n",
       "    <tr>\n",
       "      <th>0</th>\n",
       "      <td>aby</td>\n",
       "      <td>23</td>\n",
       "      <td>HR</td>\n",
       "      <td>10000</td>\n",
       "    </tr>\n",
       "    <tr>\n",
       "      <th>1</th>\n",
       "      <td>boby</td>\n",
       "      <td>56</td>\n",
       "      <td>finance</td>\n",
       "      <td>20000</td>\n",
       "    </tr>\n",
       "    <tr>\n",
       "      <th>2</th>\n",
       "      <td>john</td>\n",
       "      <td>64</td>\n",
       "      <td>marketing</td>\n",
       "      <td>30000</td>\n",
       "    </tr>\n",
       "    <tr>\n",
       "      <th>3</th>\n",
       "      <td>kevin</td>\n",
       "      <td>35</td>\n",
       "      <td>IT</td>\n",
       "      <td>40000</td>\n",
       "    </tr>\n",
       "    <tr>\n",
       "      <th>4</th>\n",
       "      <td>rony</td>\n",
       "      <td>32</td>\n",
       "      <td>admin</td>\n",
       "      <td>50000</td>\n",
       "    </tr>\n",
       "  </tbody>\n",
       "</table>\n",
       "</div>"
      ],
      "text/plain": [
       "    name  age department  salary\n",
       "0    aby   23         HR   10000\n",
       "1   boby   56    finance   20000\n",
       "2   john   64  marketing   30000\n",
       "3  kevin   35         IT   40000\n",
       "4   rony   32      admin   50000"
      ]
     },
     "execution_count": 84,
     "metadata": {},
     "output_type": "execute_result"
    }
   ],
   "source": [
    "#creating a sample dataset\n",
    "data={\n",
    "    'name':['aby','boby','john','kevin','rony'],\n",
    "    'age':[23,56,64,35,32,],\n",
    "    'department':['HR','finance','marketing','IT','admin'],\n",
    "    'salary':[10000,20000,30000,40000,50000]\n",
    "}\n",
    "#covert the data into a DataFrame\n",
    "df=pan.DataFrame(data)\n",
    "df\n",
    "#save the DataFrame to a Csv file \n",
    "df.to_csv('sample_file.csv',index=False)\n",
    "#open a csv file in read only mode\n",
    "read=pan.read_csv('sample_file.csv')\n"
   ]
  },
  {
   "cell_type": "markdown",
   "id": "96394c71-46ad-450d-b705-d13c1c980ff1",
   "metadata": {},
   "source": [
    "## EXCEL FILE"
   ]
  },
  {
   "cell_type": "code",
   "execution_count": 90,
   "id": "63e188f4-dd42-4c39-806c-e881aedb0e05",
   "metadata": {},
   "outputs": [
    {
     "data": {
      "text/html": [
       "<div>\n",
       "<style scoped>\n",
       "    .dataframe tbody tr th:only-of-type {\n",
       "        vertical-align: middle;\n",
       "    }\n",
       "\n",
       "    .dataframe tbody tr th {\n",
       "        vertical-align: top;\n",
       "    }\n",
       "\n",
       "    .dataframe thead th {\n",
       "        text-align: right;\n",
       "    }\n",
       "</style>\n",
       "<table border=\"1\" class=\"dataframe\">\n",
       "  <thead>\n",
       "    <tr style=\"text-align: right;\">\n",
       "      <th></th>\n",
       "      <th>name</th>\n",
       "      <th>age</th>\n",
       "      <th>department</th>\n",
       "      <th>salary</th>\n",
       "    </tr>\n",
       "  </thead>\n",
       "  <tbody>\n",
       "    <tr>\n",
       "      <th>0</th>\n",
       "      <td>aby</td>\n",
       "      <td>23</td>\n",
       "      <td>HR</td>\n",
       "      <td>10000</td>\n",
       "    </tr>\n",
       "    <tr>\n",
       "      <th>1</th>\n",
       "      <td>boby</td>\n",
       "      <td>56</td>\n",
       "      <td>finance</td>\n",
       "      <td>20000</td>\n",
       "    </tr>\n",
       "    <tr>\n",
       "      <th>2</th>\n",
       "      <td>john</td>\n",
       "      <td>64</td>\n",
       "      <td>marketing</td>\n",
       "      <td>30000</td>\n",
       "    </tr>\n",
       "    <tr>\n",
       "      <th>3</th>\n",
       "      <td>kevin</td>\n",
       "      <td>35</td>\n",
       "      <td>IT</td>\n",
       "      <td>40000</td>\n",
       "    </tr>\n",
       "    <tr>\n",
       "      <th>4</th>\n",
       "      <td>rony</td>\n",
       "      <td>32</td>\n",
       "      <td>admin</td>\n",
       "      <td>50000</td>\n",
       "    </tr>\n",
       "  </tbody>\n",
       "</table>\n",
       "</div>"
      ],
      "text/plain": [
       "    name  age department  salary\n",
       "0    aby   23         HR   10000\n",
       "1   boby   56    finance   20000\n",
       "2   john   64  marketing   30000\n",
       "3  kevin   35         IT   40000\n",
       "4   rony   32      admin   50000"
      ]
     },
     "execution_count": 90,
     "metadata": {},
     "output_type": "execute_result"
    }
   ],
   "source": [
    "#creating a sample dataset\n",
    "data={\n",
    "    'name':['aby','boby','john','kevin','rony'],\n",
    "    'age':[23,56,64,35,32,],\n",
    "    'department':['HR','finance','marketing','IT','admin'],\n",
    "    'salary':[10000,20000,30000,40000,50000]\n",
    "}\n",
    "#covert the data into a DataFrame\n",
    "df=pan.DataFrame(data)\n",
    "df\n",
    "#save the DataFrame to a excel file \n",
    "df.to_excel('sample_file.xlsx',index=False)\n",
    "#open a excel file in read only mode\n",
    "read=pan.read_excel('sample_file.xlsx')\n",
    "read"
   ]
  },
  {
   "cell_type": "markdown",
   "id": "e709ed19-b475-45e5-9b99-31d9f62d4fce",
   "metadata": {},
   "source": [
    "## HTML"
   ]
  },
  {
   "cell_type": "code",
   "execution_count": 95,
   "id": "36ef05de-4817-40c7-a675-54ae4b1d1a82",
   "metadata": {},
   "outputs": [
    {
     "data": {
      "text/plain": [
       "[    name  age department  salary\n",
       " 0    aby   23         HR   10000\n",
       " 1   boby   56    finance   20000\n",
       " 2   john   64  marketing   30000\n",
       " 3  kevin   35         IT   40000\n",
       " 4   rony   32      admin   50000]"
      ]
     },
     "execution_count": 95,
     "metadata": {},
     "output_type": "execute_result"
    }
   ],
   "source": [
    "#creating a sample dataset\n",
    "data={\n",
    "    'name':['aby','boby','john','kevin','rony'],\n",
    "    'age':[23,56,64,35,32,],\n",
    "    'department':['HR','finance','marketing','IT','admin'],\n",
    "    'salary':[10000,20000,30000,40000,50000]\n",
    "}\n",
    "#covert the data into a DataFrame\n",
    "df=pan.DataFrame(data)\n",
    "df\n",
    "#save the DataFrame to a html file \n",
    "df.to_html('sample_file.html',index=False)\n",
    "#open a html file in read only mode\n",
    "read=pan.read_html('sample_file.html')\n",
    "read"
   ]
  },
  {
   "cell_type": "markdown",
   "id": "e565db46-4bbe-41e2-a75b-92cf63b2e50b",
   "metadata": {},
   "source": [
    "## txt file"
   ]
  },
  {
   "cell_type": "code",
   "execution_count": 102,
   "id": "e86f53c5-b4f4-4ae9-a9e1-1c732a7ef1ce",
   "metadata": {},
   "outputs": [
    {
     "data": {
      "text/html": [
       "<div>\n",
       "<style scoped>\n",
       "    .dataframe tbody tr th:only-of-type {\n",
       "        vertical-align: middle;\n",
       "    }\n",
       "\n",
       "    .dataframe tbody tr th {\n",
       "        vertical-align: top;\n",
       "    }\n",
       "\n",
       "    .dataframe thead th {\n",
       "        text-align: right;\n",
       "    }\n",
       "</style>\n",
       "<table border=\"1\" class=\"dataframe\">\n",
       "  <thead>\n",
       "    <tr style=\"text-align: right;\">\n",
       "      <th></th>\n",
       "      <th>name</th>\n",
       "      <th>age</th>\n",
       "      <th>department</th>\n",
       "      <th>salary</th>\n",
       "    </tr>\n",
       "  </thead>\n",
       "  <tbody>\n",
       "    <tr>\n",
       "      <th>0</th>\n",
       "      <td>aby</td>\n",
       "      <td>23</td>\n",
       "      <td>HR</td>\n",
       "      <td>10000</td>\n",
       "    </tr>\n",
       "    <tr>\n",
       "      <th>1</th>\n",
       "      <td>boby</td>\n",
       "      <td>56</td>\n",
       "      <td>finance</td>\n",
       "      <td>20000</td>\n",
       "    </tr>\n",
       "    <tr>\n",
       "      <th>2</th>\n",
       "      <td>john</td>\n",
       "      <td>64</td>\n",
       "      <td>marketing</td>\n",
       "      <td>30000</td>\n",
       "    </tr>\n",
       "    <tr>\n",
       "      <th>3</th>\n",
       "      <td>kevin</td>\n",
       "      <td>35</td>\n",
       "      <td>IT</td>\n",
       "      <td>40000</td>\n",
       "    </tr>\n",
       "    <tr>\n",
       "      <th>4</th>\n",
       "      <td>rony</td>\n",
       "      <td>32</td>\n",
       "      <td>admin</td>\n",
       "      <td>50000</td>\n",
       "    </tr>\n",
       "  </tbody>\n",
       "</table>\n",
       "</div>"
      ],
      "text/plain": [
       "    name  age department  salary\n",
       "0    aby   23         HR   10000\n",
       "1   boby   56    finance   20000\n",
       "2   john   64  marketing   30000\n",
       "3  kevin   35         IT   40000\n",
       "4   rony   32      admin   50000"
      ]
     },
     "execution_count": 102,
     "metadata": {},
     "output_type": "execute_result"
    }
   ],
   "source": [
    "#creating a sample dataset\n",
    "data={\n",
    "    'name':['aby','boby','john','kevin','rony'],\n",
    "    'age':[23,56,64,35,32,],\n",
    "    'department':['HR','finance','marketing','IT','admin'],\n",
    "    'salary':[10000,20000,30000,40000,50000]\n",
    "}\n",
    "#covert the data into a DataFrame\n",
    "df=pan.DataFrame(data)\n",
    "df\n",
    "#save the DataFrame to a txt file \n",
    "df.to_csv('sample_file.txt',sep='\\t', index=False)\n",
    "#open a txt file in read only mode\n",
    "read=pan.read_table('sample_file.txt')\n",
    "read"
   ]
  },
  {
   "cell_type": "markdown",
   "id": "2a2c467c-e8a5-4a9a-ba5a-339dfc42b7a2",
   "metadata": {},
   "source": [
    "## pickle file"
   ]
  },
  {
   "cell_type": "code",
   "execution_count": 106,
   "id": "4e525fc3-5574-4144-ab09-d79a52869eab",
   "metadata": {},
   "outputs": [
    {
     "data": {
      "text/plain": [
       "{'name': ['aby', 'boby', 'john', 'kevin', 'rony'],\n",
       " 'age': [23, 56, 64, 35, 32],\n",
       " 'department': ['HR', 'finance', 'marketing', 'IT', 'admin'],\n",
       " 'salary': [10000, 20000, 30000, 40000, 50000]}"
      ]
     },
     "execution_count": 106,
     "metadata": {},
     "output_type": "execute_result"
    }
   ],
   "source": [
    "import pickle\n",
    "#creating a sample dataset\n",
    "data={\n",
    "    'name':['aby','boby','john','kevin','rony'],\n",
    "    'age':[23,56,64,35,32,],\n",
    "    'department':['HR','finance','marketing','IT','admin'],\n",
    "    'salary':[10000,20000,30000,40000,50000]\n",
    "}\n",
    "#covert the data into a DataFrame\n",
    "df=pan.DataFrame(data)\n",
    "df\n",
    "#save the DataFrame to a pickle file \n",
    "with open('sample_file.pkl','wb')as file:\n",
    "#wb means write binary\n",
    "    pickle.dump(data,file)\n",
    "#open a txt file in read only mode\n",
    "read=pan.read_pickle('sample_file.pkl')\n",
    "read"
   ]
  },
  {
   "cell_type": "markdown",
   "id": "499c4a3d-0269-4eaa-90f7-6416bb59722b",
   "metadata": {},
   "source": [
    "# Data frame creation\n",
    "## from a list of Dictionary"
   ]
  },
  {
   "cell_type": "code",
   "execution_count": 116,
   "id": "857ba0fa-f0ea-4d79-920a-4370166e65aa",
   "metadata": {},
   "outputs": [
    {
     "data": {
      "text/html": [
       "<div>\n",
       "<style scoped>\n",
       "    .dataframe tbody tr th:only-of-type {\n",
       "        vertical-align: middle;\n",
       "    }\n",
       "\n",
       "    .dataframe tbody tr th {\n",
       "        vertical-align: top;\n",
       "    }\n",
       "\n",
       "    .dataframe thead th {\n",
       "        text-align: right;\n",
       "    }\n",
       "</style>\n",
       "<table border=\"1\" class=\"dataframe\">\n",
       "  <thead>\n",
       "    <tr style=\"text-align: right;\">\n",
       "      <th></th>\n",
       "      <th>name</th>\n",
       "      <th>age</th>\n",
       "      <th>city</th>\n",
       "    </tr>\n",
       "  </thead>\n",
       "  <tbody>\n",
       "    <tr>\n",
       "      <th>0</th>\n",
       "      <td>aby</td>\n",
       "      <td>25</td>\n",
       "      <td>canada</td>\n",
       "    </tr>\n",
       "    <tr>\n",
       "      <th>1</th>\n",
       "      <td>boby</td>\n",
       "      <td>45</td>\n",
       "      <td>chicagi</td>\n",
       "    </tr>\n",
       "    <tr>\n",
       "      <th>2</th>\n",
       "      <td>john</td>\n",
       "      <td>41</td>\n",
       "      <td>losangels</td>\n",
       "    </tr>\n",
       "  </tbody>\n",
       "</table>\n",
       "</div>"
      ],
      "text/plain": [
       "   name  age       city\n",
       "0   aby   25     canada\n",
       "1  boby   45    chicagi\n",
       "2  john   41  losangels"
      ]
     },
     "execution_count": 116,
     "metadata": {},
     "output_type": "execute_result"
    }
   ],
   "source": [
    "data=[\n",
    "    {'name':'aby','age':25,'city':'canada'},\n",
    "    {'name':'boby','age':45,'city':'chicagi'},\n",
    "    {'name':'john','age':41,'city':'losangels'}\n",
    "]\n",
    "df=pan.DataFrame(data)\n",
    "df"
   ]
  },
  {
   "cell_type": "markdown",
   "id": "7229e5c8-aadf-4aa7-814b-d55ba64541bd",
   "metadata": {},
   "source": [
    "## from a list of list"
   ]
  },
  {
   "cell_type": "code",
   "execution_count": 129,
   "id": "dd6b57db-6924-4f1d-9271-c6ce4b245143",
   "metadata": {},
   "outputs": [
    {
     "data": {
      "text/html": [
       "<div>\n",
       "<style scoped>\n",
       "    .dataframe tbody tr th:only-of-type {\n",
       "        vertical-align: middle;\n",
       "    }\n",
       "\n",
       "    .dataframe tbody tr th {\n",
       "        vertical-align: top;\n",
       "    }\n",
       "\n",
       "    .dataframe thead th {\n",
       "        text-align: right;\n",
       "    }\n",
       "</style>\n",
       "<table border=\"1\" class=\"dataframe\">\n",
       "  <thead>\n",
       "    <tr style=\"text-align: right;\">\n",
       "      <th></th>\n",
       "      <th>name</th>\n",
       "      <th>age</th>\n",
       "      <th>city</th>\n",
       "    </tr>\n",
       "  </thead>\n",
       "  <tbody>\n",
       "    <tr>\n",
       "      <th>0</th>\n",
       "      <td>alice</td>\n",
       "      <td>30</td>\n",
       "      <td>malappuram</td>\n",
       "    </tr>\n",
       "    <tr>\n",
       "      <th>1</th>\n",
       "      <td>boby</td>\n",
       "      <td>24</td>\n",
       "      <td>koxhikode</td>\n",
       "    </tr>\n",
       "    <tr>\n",
       "      <th>2</th>\n",
       "      <td>tom</td>\n",
       "      <td>30</td>\n",
       "      <td>kannur</td>\n",
       "    </tr>\n",
       "  </tbody>\n",
       "</table>\n",
       "</div>"
      ],
      "text/plain": [
       "    name  age        city\n",
       "0  alice   30  malappuram\n",
       "1   boby   24   koxhikode\n",
       "2    tom   30      kannur"
      ]
     },
     "execution_count": 129,
     "metadata": {},
     "output_type": "execute_result"
    }
   ],
   "source": [
    "data=[\n",
    "    ['alice',30,'malappuram'],\n",
    "    ['boby',24,'koxhikode'],\n",
    "    ['tom',30,'kannur']\n",
    "]\n",
    "df=pan.DataFrame(data,columns=['name','age','city'])\n",
    "df"
   ]
  },
  {
   "cell_type": "code",
   "execution_count": null,
   "id": "7cc06e19-6b71-4e9c-8a19-b8f63c690b17",
   "metadata": {},
   "outputs": [],
   "source": []
  },
  {
   "cell_type": "code",
   "execution_count": null,
   "id": "e4ba0e6f-f344-4881-832f-12817fda181d",
   "metadata": {},
   "outputs": [],
   "source": []
  }
 ],
 "metadata": {
  "kernelspec": {
   "display_name": "Python 3 (ipykernel)",
   "language": "python",
   "name": "python3"
  },
  "language_info": {
   "codemirror_mode": {
    "name": "ipython",
    "version": 3
   },
   "file_extension": ".py",
   "mimetype": "text/x-python",
   "name": "python",
   "nbconvert_exporter": "python",
   "pygments_lexer": "ipython3",
   "version": "3.12.7"
  }
 },
 "nbformat": 4,
 "nbformat_minor": 5
}
